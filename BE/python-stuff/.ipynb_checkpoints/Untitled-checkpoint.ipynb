{
 "cells": [
  {
   "cell_type": "code",
   "execution_count": 2,
   "metadata": {},
   "outputs": [
    {
     "name": "stdout",
     "output_type": "stream",
     "text": [
      "https://en.wikipedia.org/wiki/Digital_image_processing\n",
      "https://en.wikipedia.org/wiki/Digital_image_processing\n",
      "https://en.wikipedia.org/wiki/Digital_image_processing\n",
      "https://en.wikipedia.org/wiki/Digital_image_processing\n",
      "https://academic.microsoft.com/topic/104317675\n",
      "https://en.wikipedia.org/wiki/Digital_image_processing\n",
      "{'plagiarism-percentage': 1.0, 'urls': {'https://en.wikipedia.org/wiki/Digital_image_processing': 1.0}}\n"
     ]
    }
   ],
   "source": [
    "from bs4 import BeautifulSoup as soup\n",
    "from urllib.request import urlopen as uReq\n",
    "import re\n",
    "from googlesearch import search\n",
    "\n",
    "def url_scrapper(url):\n",
    "    if url in map_url_to_scrapped_text.keys():\n",
    "        return map_url_to_scrapped_text[url];\n",
    "    try:\n",
    "        uClient=uReq(url,timeout=0.5);\n",
    "        page_html=uClient.read();\n",
    "        uClient.close();\n",
    "        \n",
    "        page_soup=soup(page_html,\"html.parser\");\n",
    "        container=page_soup.findAll([\"body\"])[0];\n",
    "        scrapped_text=container.text.lower();\n",
    "        \n",
    "        scrapped_text=re.sub('[^a-z0-9.]',' ',scrapped_text);\n",
    "        scrapped_text=re.sub(' +',' ',scrapped_text);\n",
    "        \n",
    "        map_url_to_scrapped_text[url]=scrapped_text\n",
    "        \n",
    "        return map_url_to_scrapped_text[url];\n",
    "    except:\n",
    "        return \"\";\n",
    "\n",
    "map_url_to_scrapped_text={}\n",
    "map_url_to_match_no={}\n",
    "\n",
    "input_text='''Digital image processing is the use of a digital computer to process digital images through an algorithm.[1][2] As a subcategory or field of digital signal processing, digital image processing has many advantages over analog image processing. It allows a much wider range of algorithms to be applied to the input data and can avoid problems such as the build-up of noise and distortion during processing. Since images are defined over two dimensions (perhaps more) digital image processing may be modeled in the form of multidimensional systems. The generation and development of digital image processing are mainly affected by three factors: first, the development of computers; second, the development of mathematics (especially the creation and improvement of discrete mathematics theory); third, the demand for a wide range of applications in environment, agriculture, military, industry and medical science has increased.''';\n",
    "\n",
    "input_text=input_text.lower();\n",
    "input_text=re.sub('[^a-z0-9.]',' ',input_text);\n",
    "input_text=re.sub(' +',' ',input_text);\n",
    "input_text_container=input_text.split('.');\n",
    "\n",
    "for i in range(len(input_text_container)):\n",
    "    input_text_container[i]=input_text_container[i].strip();\n",
    "\n",
    "n=len(input_text_container);\n",
    "ans=0;\n",
    "\n",
    "for text in input_text_container:\n",
    "    if(len(text)<10):\n",
    "        n=n-1;\n",
    "        continue;\n",
    "    urls=search(text, tld=\"co.in\", num=5, stop=5, pause=2);\n",
    "    for url in urls:\n",
    "        if(url[-4:]!=\".pdf\"):\n",
    "            try:\n",
    "                scrapped_text=url_scrapper(url);\n",
    "                if(text in scrapped_text):\n",
    "                    ans=ans+1;\n",
    "                    if(url in map_url_to_match_no.keys()):\n",
    "                        map_url_to_match_no[url]=map_url_to_match_no[url]+1;\n",
    "                    else:\n",
    "                        map_url_to_match_no[url]=1;\n",
    "                    break;\n",
    "            except:\n",
    "                print('error');\n",
    "\n",
    "for key in map_url_to_match_no.keys():\n",
    "    map_url_to_match_no[key]=map_url_to_match_no[key]/n;\n",
    "    \n",
    "map_url_to_match_no\n",
    "\n",
    "output={\n",
    "    \"plagiarism-percentage\": ans/n,\n",
    "    \"urls\": map_url_to_match_no\n",
    "}\n",
    "\n",
    "print(output);"
   ]
  },
  {
   "cell_type": "code",
   "execution_count": null,
   "metadata": {},
   "outputs": [],
   "source": []
  }
 ],
 "metadata": {
  "kernelspec": {
   "display_name": "Python 3",
   "language": "python",
   "name": "python3"
  },
  "language_info": {
   "codemirror_mode": {
    "name": "ipython",
    "version": 3
   },
   "file_extension": ".py",
   "mimetype": "text/x-python",
   "name": "python",
   "nbconvert_exporter": "python",
   "pygments_lexer": "ipython3",
   "version": "3.7.9"
  }
 },
 "nbformat": 4,
 "nbformat_minor": 4
}
