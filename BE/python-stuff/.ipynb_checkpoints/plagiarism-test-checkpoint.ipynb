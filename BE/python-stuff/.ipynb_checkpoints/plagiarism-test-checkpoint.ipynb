{
 "cells": [
  {
   "cell_type": "code",
   "execution_count": 1,
   "metadata": {},
   "outputs": [],
   "source": [
    "from bs4 import BeautifulSoup as soup\n",
    "from urllib.request import urlopen as uReq\n",
    "import numpy as np\n",
    "import re"
   ]
  },
  {
   "cell_type": "code",
   "execution_count": 2,
   "metadata": {},
   "outputs": [],
   "source": [
    "my_url=\"https://en.wikipedia.org/wiki/Digital_image_processing\""
   ]
  },
  {
   "cell_type": "code",
   "execution_count": 3,
   "metadata": {},
   "outputs": [],
   "source": [
    "uClient=uReq(my_url)\n",
    "page_html=uClient.read()\n",
    "uClient.close()\n",
    "#page_html"
   ]
  },
  {
   "cell_type": "code",
   "execution_count": 4,
   "metadata": {},
   "outputs": [],
   "source": [
    "page_soup=soup(page_html,\"html.parser\")\n",
    "#page_soup"
   ]
  },
  {
   "cell_type": "code",
   "execution_count": 5,
   "metadata": {},
   "outputs": [
    {
     "data": {
      "text/plain": [
       "30"
      ]
     },
     "execution_count": 5,
     "metadata": {},
     "output_type": "execute_result"
    }
   ],
   "source": [
    "containers=page_soup.findAll([\"p\"])#,{\"class\": \"mw-content-ltr\"})\n",
    "#containers=np.array(containers)\n",
    "len(containers)"
   ]
  },
  {
   "cell_type": "code",
   "execution_count": 6,
   "metadata": {},
   "outputs": [
    {
     "data": {
      "text/plain": [
       "'Digital image processing is the use of a digital computer to process digital images through an algorithm.[1][2] As a subcategory or field of digital signal processing, digital image processing has many advantages over analog image processing. It allows a much wider range of algorithms to be applied to the input data and can avoid problems such as the build-up of noise and distortion during processing. Since images are defined over two dimensions (perhaps more) digital image processing may be modeled in the form of multidimensional systems. The generation and development of digital image processing are mainly affected by three factors: first, the development of computers; second, the development of mathematics (especially the creation and improvement of discrete mathematics theory); third, the demand for a wide range of applications in environment, agriculture, military, industry and medical science has increased.\\n'"
      ]
     },
     "execution_count": 6,
     "metadata": {},
     "output_type": "execute_result"
    }
   ],
   "source": [
    "#soup.prettify(containers[0])\n",
    "containers[0].text"
   ]
  },
  {
   "cell_type": "code",
   "execution_count": 7,
   "metadata": {},
   "outputs": [
    {
     "data": {
      "text/plain": [
       "['Digital image processing is the use of a digital computer to process digital images through an algorithm',\n",
       " '[1][2] As a subcategory or field of digital signal processing, digital image processing has many advantages over analog image processing',\n",
       " ' It allows a much wider range of algorithms to be applied to the input data and can avoid problems such as the build-up of noise and distortion during processing',\n",
       " ' Since images are defined over two dimensions (perhaps more) digital image processing may be modeled in the form of multidimensional systems',\n",
       " ' The generation and development of digital image processing are mainly affected by three factors: first, the development of computers; second, the development of mathematics (especially the creation and improvement of discrete mathematics theory); third, the demand for a wide range of applications in environment, agriculture, military, industry and medical science has increased',\n",
       " '\\n']"
      ]
     },
     "execution_count": 7,
     "metadata": {},
     "output_type": "execute_result"
    }
   ],
   "source": [
    "containers[0].text.split('.')"
   ]
  },
  {
   "cell_type": "code",
   "execution_count": 8,
   "metadata": {},
   "outputs": [
    {
     "data": {
      "text/plain": [
       "'digital image processing is the use of a digital computer to process digital images through an algorithm'"
      ]
     },
     "execution_count": 8,
     "metadata": {},
     "output_type": "execute_result"
    }
   ],
   "source": [
    "containers[0].text.split('.')[0].lower()"
   ]
  },
  {
   "cell_type": "markdown",
   "metadata": {},
   "source": [
    "# Below change is required in Clustering model too (text=re.sub(' +',' ',text))"
   ]
  },
  {
   "cell_type": "code",
   "execution_count": 9,
   "metadata": {},
   "outputs": [],
   "source": [
    "scrapped_text_container=np.array([]);\n",
    "#scrapped_text_container=[];\n",
    "\n",
    "for i in range(len(containers)):\n",
    "    text=containers[i].text.lower();\n",
    "    text=re.sub('[^a-z0-9.]',' ',text);\n",
    "    text=re.sub(' +',' ',text);\n",
    "    #scrapped_text_container.append(text.split('.'));\n",
    "    scrapped_text_container=np.append(scrapped_text_container,text.split('.'),axis=0);\n",
    "\n",
    "#scrapped_text_container\n",
    "\n",
    "#only a-z0-9. are in the text. (no commas)"
   ]
  },
  {
   "cell_type": "code",
   "execution_count": 10,
   "metadata": {},
   "outputs": [
    {
     "data": {
      "text/plain": [
       "'digital image processing is the use of a digital computer to process digital images through an algorithm. 1 2 as a subcategory or field of digital signal processing digital image processing has many advantages over analog image processing. it allows a much wider range of algorithms to be applied to the input data and can avoid problems such as the build up of noise and distortion during processing. since images are defined over two dimensions perhaps more digital image processing may be modeled in the form of multidimensional systems. the generation and development of digital image processing are mainly affected by three factors first the development of computers second the development of mathematics especially the creation and improvement of discrete mathematics theory third the demand for a wide range of applications in environment agriculture military industry and medical science has increased. .many of the techniques of digital image processing or digital picture processing as it often was called were developed in the 1960s at bell laboratories the jet propulsion laboratory massachusetts institute of technology university of maryland and a few other research facilities with application to satellite imagery wire photo standards conversion medical imaging videophone character recognition and photograph enhancement. 3 the purpose of early image processing was to improve the quality of the image. it was aimed for human beings to improve the visual effect of people. in image processing the input is a low quality image and the output is an image with improved quality. common image processing include image enhancement restoration encoding and compression. the first successful application was the american jet propulsion laboratory jpl . they used image processing techniques such as geometric correction gradation transformation noise removal etc. on the thousands of lunar photos sent back by the space detector ranger 7 in 1964 taking into account the position of the sun and the environment of the moon. the impact of the successful mapping of the moon s surface map by the computer has been a huge success. later more complex image processing was performed on the nearly 100 000 photos sent back by the spacecraft so that the topographic map color map and panoramic mosaic of the moon were obtained which achieved extraordinary results and laid a solid foundation for human landing on the moon. 4 .the cost of processing was fairly high however with the computing equipment of that era. that changed in the 1970s when digital image processing proliferated as cheaper computers and dedicated hardware became available. this led to images being processed in real time for some dedicated problems such as television standards conversion. as general purpose computers became faster they started to take over the role of dedicated hardware for all but the most specialized and computer intensive operations. with the fast computers and signal processors available in the 2000s digital image processing has become the most common form of image processing and is generally used because it is not only the most versatile method but also the cheapest. .the basis for modern image sensors is metal oxide semiconductor mos technology 5 which originates from the invention of the mosfet mos field effect transistor by mohamed m. atalla and dawon kahng at bell labs in 1959. 6 this led to the development of digital semiconductor image sensors including the charge coupled device ccd and later the cmos sensor. 5 .the charge coupled device was invented by willard s. boyle and george e. smith at bell labs in 1969. 7 while researching mos technology they realized that an electric charge was the analogy of the magnetic bubble and that it could be stored on a tiny mos capacitor. as it was fairly straightforward to fabricate a series of mos capacitors in a row they connected a suitable voltage to them so that the charge could be stepped along from one to the next. 5 the ccd is a semiconductor circuit that was later used in the first digital video cameras for television broadcasting. 8 .the nmos active pixel sensor aps was invented by olympus in japan during the mid 1980s. this was enabled by advances in mos semiconductor device fabrication with mosfet scaling reaching smaller micron and then sub micron levels. 9 10 the nmos aps was fabricated by tsutomu nakamura s team at olympus in 1985. 11 the cmos active pixel sensor cmos sensor was later developed by eric fossum s team at the nasa jet propulsion laboratory in 1993. 12 by 2007 sales of cmos sensors had surpassed ccd sensors. 13 .an important development in digital image compression technology was the discrete cosine transform dct a lossy compression technique first proposed by nasir ahmed in 1972. 14 dct compression became the basis for jpeg which was introduced by the joint photographic experts group in 1992. 15 jpeg compresses images down to much smaller file sizes and has become the most widely used image file format on the internet. 16 its highly efficient dct compression algorithm was largely responsible for the wide proliferation of digital images and digital photos 17 with several billion jpeg images produced every day as of 2015. 18 .electronic signal processing was revolutionized by the wide adoption of mos technology in the 1970s. 19 mos integrated circuit technology was the basis for the first single chip microprocessors and microcontrollers in the early 1970s 20 and then the first single chip digital signal processor dsp chips in the late 1970s. 21 22 dsp chips have since been widely used in digital image processing. 21 .the discrete cosine transform dct image compression algorithm has been widely implemented in dsp chips with many companies developing dsp chips based on dct technology. dcts are widely used for encoding decoding video coding audio coding multiplexing control signals signaling analog to digital conversion formatting luminance and color differences and color formats such as yuv444 and yuv411. dcts are also used for encoding operations such as motion estimation motion compensation inter frame prediction quantization perceptual weighting entropy encoding variable encoding and motion vectors and decoding operations such as the inverse operation between different color formats yiq yuv and rgb for display purposes. dcts are also commonly used for high definition television hdtv encoder decoder chips. 23 .in 1972 the engineer from british company emi housfield invented the x ray computed tomography device for head diagnosis which is what is usually called ct computer tomography . the ct nucleus method is based on the projection of the human head section and is processed by computer to reconstruct the cross sectional image which is called image reconstruction. in 1975 emi successfully developed a ct device for the whole body which obtained a clear tomographic image of various parts of the human body. in 1979 this diagnostic technique won the nobel prize. 4 digital image processing technology for medical applications was inducted into the space foundation space technology hall of fame in 1994. 24 .digital image processing allows the use of much more complex algorithms and hence can offer both more sophisticated performance at simple tasks and the implementation of methods which would be impossible by analogue means. .in particular digital image processing is a concrete application of and a practical technology based on .some techniques which are used in digital image processing include .digital filters are used to blur and sharpen digital images. filtering can be performed by .the following examples show both methods 26 .image checkerboard .f fourier transform of image .show image log 1 absolute value f .images are typically padded before being transformed to the fourier space the highpass filtered images below illustrate the consequences of different padding techniques .notice that the highpass filter shows extra edges when zero padded compared to the repeated edge padding. .matlab example for spatial domain highpass filtering. .affine transformations enable basic image transformations including scale rotate translate mirror and shear as is shown in the following examples 26 .to apply the affine matrix to an image the image is converted to matrix in which each entry corresponds to the pixel intensity at that location. then each pixel s location can be represented as a vector indicating the coordinates of that pixel in the image x y where x and y are the row and column of a pixel in the image matrix. this allows the coordinate to be multiplied by an affine transformation matrix which gives the position that the pixel value will be copied to in the output image. .however to allow transformations that require translation transformations 3 dimensional homogeneous coordinates are needed. the third dimension is usually set to a non zero constant usually 1 so that the new coordinate is x y 1 . this allows the coordinate vector to be multiplied by a 3 by 3 matrix enabling translation shifts. so the third dimension which is the constant 1 allows translation. .because matrix multiplication is associative multiple affine transformations can be combined into a single affine transformation by multiplying the matrix of each individual transformation in the order that the transformations are done. this results in a single matrix that when applied to a point vector gives the same result as all the individual transformations performed on the vector x y 1 in sequence. thus a sequence of affine transformation matrices can be reduced to a single affine transformation matrix. .for example 2 dimensional coordinates only allow rotation about the origin 0 0 . but 3 dimensional homogeneous coordinates can be used to first translate any point to 0 0 then perform the rotation and lastly translate the origin 0 0 back to the original point the opposite of the first translation . these 3 affine transformations can be combined into a single matrix thus allowing rotation around any point in the image. 27 .digital cameras generally include specialized digital image processing hardware either dedicated chips or added circuitry on other chips to convert the raw data from their image sensor into a color corrected image in a standard image file format. .westworld 1973 was the first feature film to use the digital image processing to pixellate photography to simulate an android s point of view. 28 .there were significant advancements in fatigue monitoring technology the past decade. these innovative technology solutions are now commercially available and offer real safety benefits to drivers operators and other shift workers across all industries. citation needed .software developers engineers and scientists develop fatigue detection software using various physiological cues to determine the state of fatigue or drowsiness. the measurement of brain activity electroencephalogram is widely accepted as the standard in fatigue monitoring. other technology used to determine fatigue related impairment include behavioural symptom measurements such as eye behaviour gaze direction micro corrections in steering and throttle use as well as heart rate variability. citation needed '"
      ]
     },
     "execution_count": 10,
     "metadata": {},
     "output_type": "execute_result"
    }
   ],
   "source": [
    "scrapped_text='.'.join(scrapped_text_container);\n",
    "scrapped_text"
   ]
  },
  {
   "cell_type": "code",
   "execution_count": 11,
   "metadata": {},
   "outputs": [
    {
     "data": {
      "text/plain": [
       "False"
      ]
     },
     "execution_count": 11,
     "metadata": {},
     "output_type": "execute_result"
    }
   ],
   "source": [
    "\"  \" in scrapped_text # 2 consequetive spaces aren't contained in the scrapped_text."
   ]
  },
  {
   "cell_type": "code",
   "execution_count": 12,
   "metadata": {},
   "outputs": [
    {
     "data": {
      "text/plain": [
       "['nd a few other research facilities with application to satellite imagery wire photo standards conversion medical imaging videophone character recognition and photograph enhancement',\n",
       " ' 3 the purpose of early image processing was to improve the quality of the image',\n",
       " ' it was aimed for human beings to improve the visual effect of people',\n",
       " ' in image processing the input is a low quality image and the output is an image with improved quality',\n",
       " ' common image processing include image enhancement restoration encoding and compression',\n",
       " ' the first successful application was the american jet propulsion laboratory jpl ',\n",
       " ' they used image processing techniques such as geometric correction gradation transformation noise removal etc',\n",
       " ' on the thousands of lunar photos sent back by the space detector ranger 7 in 1964 taking into account the position of the sun and the environment of the moon',\n",
       " ' the impact of the successful mapping of the moon s surface map by the computer has been a huge success',\n",
       " ' later more complex image processing was performed on the nearly 100 000 photos sent back by the spacecraft so that the topographic map color map and panoramic mosaic of the moon were obtained which achieved extraordinary results and laid a ']"
      ]
     },
     "execution_count": 12,
     "metadata": {},
     "output_type": "execute_result"
    }
   ],
   "source": [
    "input_text=\"nd a few other research facilities, with application to satellite imagery, wire-photo standards conversion, medical imaging, videophone, character recognition, and photograph enhancement.[3] The purpose of early image processing was to improve the quality of the image. It was aimed for human beings to improve the visual effect of people. In image processing, the input is a low-quality image, and the output is an image with improved quality. Common image processing include image enhancement, restoration, encoding, and compression. The first successful application was the American Jet Propulsion Laboratory (JPL). They used image processing techniques such as geometric correction, gradation transformation, noise removal, etc. on the thousands of lunar photos sent back by the Space Detector Ranger 7 in 1964, taking into account the position of the sun and the environment of the moon. The impact of the successful mapping of the moon's surface map by the computer has been a huge success. Later, more complex image processing was performed on the nearly 100,000 photos sent back by the spacecraft, so that the topographic map, color map and panoramic mosaic of the moon were obtained, which achieved extraordinary results and laid a \"\n",
    "\n",
    "input_text=input_text.lower();\n",
    "input_text=re.sub('[^a-z0-9.]',' ',input_text);\n",
    "input_text=re.sub(' +',' ',input_text);\n",
    "input_text_container=input_text.split('.');\n",
    "\n",
    "input_text_container"
   ]
  },
  {
   "cell_type": "code",
   "execution_count": 13,
   "metadata": {},
   "outputs": [
    {
     "data": {
      "text/plain": [
       "['nd a few other research facilities with application to satellite imagery wire photo standards conversion medical imaging videophone character recognition and photograph enhancement',\n",
       " '3 the purpose of early image processing was to improve the quality of the image',\n",
       " 'it was aimed for human beings to improve the visual effect of people',\n",
       " 'in image processing the input is a low quality image and the output is an image with improved quality',\n",
       " 'common image processing include image enhancement restoration encoding and compression',\n",
       " 'the first successful application was the american jet propulsion laboratory jpl',\n",
       " 'they used image processing techniques such as geometric correction gradation transformation noise removal etc',\n",
       " 'on the thousands of lunar photos sent back by the space detector ranger 7 in 1964 taking into account the position of the sun and the environment of the moon',\n",
       " 'the impact of the successful mapping of the moon s surface map by the computer has been a huge success',\n",
       " 'later more complex image processing was performed on the nearly 100 000 photos sent back by the spacecraft so that the topographic map color map and panoramic mosaic of the moon were obtained which achieved extraordinary results and laid a']"
      ]
     },
     "execution_count": 13,
     "metadata": {},
     "output_type": "execute_result"
    }
   ],
   "source": [
    "for i in range(len(input_text_container)):\n",
    "    input_text_container[i]=input_text_container[i].strip()\n",
    "\n",
    "input_text_container"
   ]
  },
  {
   "cell_type": "code",
   "execution_count": 14,
   "metadata": {},
   "outputs": [
    {
     "name": "stdout",
     "output_type": "stream",
     "text": [
      "10 10\n"
     ]
    }
   ],
   "source": [
    "n=len(input_text_container)\n",
    "ans=0\n",
    "for text in input_text_container:\n",
    "    if(len(text)<10):\n",
    "        n=n-1;\n",
    "        continue;\n",
    "    if(text in scrapped_text):\n",
    "        ans=ans+1;\n",
    "\n",
    "print(n,ans);"
   ]
  },
  {
   "cell_type": "code",
   "execution_count": 15,
   "metadata": {},
   "outputs": [
    {
     "name": "stdout",
     "output_type": "stream",
     "text": [
      "https://en.wikipedia.org/wiki/Digital_image_processing\n",
      "https://mgmdrgyp.org/mcqs/Notepad/M.Sc.%20C.S/2nd%20Sem/Digital%20img%20process.html\n",
      "https://mrcet.com/downloads/digital_notes/ECE/IV%20Year/DIGITAL%20IMAGE%20PROCESSING.pdf\n",
      "https://worldwidescience.org/topicpages/i/image+processing+noise.html\n",
      "https://www.cet.edu.in/noticefiles/272_Digital-Image-Processing.pdf\n"
     ]
    }
   ],
   "source": [
    "from googlesearch import search\n",
    "\n",
    "query = \"They used image processing techniques such as geometric correction, gradation transformation, noise removal, etc.\"\n",
    "urls=search(query, tld=\"co.in\", num=5, stop=5, pause=2);\n",
    "\n",
    "for url in urls: \n",
    "    print(url) "
   ]
  }
 ],
 "metadata": {
  "kernelspec": {
   "display_name": "Python 3",
   "language": "python",
   "name": "python3"
  },
  "language_info": {
   "codemirror_mode": {
    "name": "ipython",
    "version": 3
   },
   "file_extension": ".py",
   "mimetype": "text/x-python",
   "name": "python",
   "nbconvert_exporter": "python",
   "pygments_lexer": "ipython3",
   "version": "3.7.9"
  }
 },
 "nbformat": 4,
 "nbformat_minor": 4
}
