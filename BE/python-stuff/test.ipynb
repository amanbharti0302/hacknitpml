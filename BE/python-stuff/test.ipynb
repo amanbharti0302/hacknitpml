{
 "cells": [
  {
   "cell_type": "code",
   "execution_count": 1,
   "metadata": {},
   "outputs": [],
   "source": [
    "import matplotlib.pyplot as plt"
   ]
  },
  {
   "cell_type": "code",
   "execution_count": 2,
   "metadata": {},
   "outputs": [
    {
     "data": {
      "text/plain": [
       "[{'id': 1804020, 'text': 'This is the best!!!'},\n",
       " {'id': 1804043, 'text': 'Nice, yet not a HUGE fan'},\n",
       " {'id': 1804165, 'text': 'this is quite nice'},\n",
       " {'id': 1804019, 'text': 'trying to find better alternatives'},\n",
       " {'id': 1804017, 'text': 'this is quite nice'}]"
      ]
     },
     "execution_count": 2,
     "metadata": {},
     "output_type": "execute_result"
    }
   ],
   "source": [
    "data=[{\n",
    "    \"id\": 1804020,\n",
    "    \"text\": \"This is the best!!!\"\n",
    "},{\n",
    "    \"id\": 1804043,\n",
    "    \"text\": \"Nice, yet not a HUGE fan\"\n",
    "},{\n",
    "    \"id\": 1804165,\n",
    "    \"text\": \"this is quite nice\"\n",
    "},{\n",
    "    \"id\": 1804019,\n",
    "    \"text\": \"trying to find better alternatives\"\n",
    "},{\n",
    "    \"id\": 1804017,\n",
    "    \"text\": \"this is quite nice\"\n",
    "}]\n",
    "data"
   ]
  },
  {
   "cell_type": "code",
   "execution_count": 3,
   "metadata": {},
   "outputs": [
    {
     "data": {
      "text/plain": [
       "[1804020, 1804043, 1804165, 1804019, 1804017]"
      ]
     },
     "execution_count": 3,
     "metadata": {},
     "output_type": "execute_result"
    }
   ],
   "source": [
    "ids=[]\n",
    "for i in range(len(data)):\n",
    "    ids.append(data[i][\"id\"])\n",
    "ids"
   ]
  },
  {
   "cell_type": "code",
   "execution_count": 11,
   "metadata": {},
   "outputs": [
    {
     "data": {
      "text/plain": [
       "['this is the best ',\n",
       " 'nice yet not a huge fan',\n",
       " 'this is quite nice',\n",
       " 'trying to find better alternatives',\n",
       " 'this is quite nice']"
      ]
     },
     "execution_count": 11,
     "metadata": {},
     "output_type": "execute_result"
    }
   ],
   "source": [
    "import re\n",
    "\n",
    "corpus=[]\n",
    "for i in range(len(data)):\n",
    "    text=data[i][\"text\"].lower();\n",
    "    text=re.sub('[^a-z0-9]',' ',text);\n",
    "    text=re.sub(' +',' ',text);\n",
    "    corpus.append(text);\n",
    "corpus"
   ]
  },
  {
   "cell_type": "code",
   "execution_count": 5,
   "metadata": {},
   "outputs": [
    {
     "data": {
      "text/plain": [
       "array([[0, 1, 0, 0, 0, 0, 1, 0, 0, 0, 1, 1, 0, 0, 0],\n",
       "       [0, 0, 0, 1, 0, 1, 0, 1, 1, 0, 0, 0, 0, 0, 1],\n",
       "       [0, 0, 0, 0, 0, 0, 1, 1, 0, 1, 0, 1, 0, 0, 0],\n",
       "       [1, 0, 1, 0, 1, 0, 0, 0, 0, 0, 0, 0, 1, 1, 0],\n",
       "       [0, 0, 0, 0, 0, 0, 1, 1, 0, 1, 0, 1, 0, 0, 0]], dtype=int64)"
      ]
     },
     "execution_count": 5,
     "metadata": {},
     "output_type": "execute_result"
    }
   ],
   "source": [
    "from sklearn.feature_extraction.text import CountVectorizer\n",
    "\n",
    "cv=CountVectorizer(max_features=5000)\n",
    "x=cv.fit_transform(corpus).toarray()\n",
    "x"
   ]
  },
  {
   "cell_type": "code",
   "execution_count": 6,
   "metadata": {},
   "outputs": [
    {
     "data": {
      "text/plain": [
       "array([[-0.59138514, -0.71882009],\n",
       "       [ 0.45165172,  1.90131104],\n",
       "       [-0.92321887, -0.1829936 ],\n",
       "       [ 1.98617117, -0.81650375],\n",
       "       [-0.92321887, -0.1829936 ]])"
      ]
     },
     "execution_count": 6,
     "metadata": {},
     "output_type": "execute_result"
    }
   ],
   "source": [
    "from sklearn.decomposition import PCA\n",
    "\n",
    "pca=PCA(n_components=2)\n",
    "coordinates=pca.fit_transform(x)\n",
    "coordinates"
   ]
  },
  {
   "cell_type": "code",
   "execution_count": 7,
   "metadata": {},
   "outputs": [
    {
     "data": {
      "text/plain": [
       "1.224744871391589"
      ]
     },
     "execution_count": 7,
     "metadata": {},
     "output_type": "execute_result"
    }
   ],
   "source": [
    "distance_threshold=((10/100)*x.shape[1])**0.5\n",
    "distance_threshold"
   ]
  },
  {
   "cell_type": "code",
   "execution_count": 8,
   "metadata": {},
   "outputs": [
    {
     "data": {
      "image/png": "[encoded data removed]",
      "text/plain": [
       "<Figure size 432x288 with 1 Axes>"
      ]
     },
     "metadata": {
      "needs_background": "light"
     },
     "output_type": "display_data"
    }
   ],
   "source": [
    "import scipy.cluster.hierarchy as sch\n",
    "\n",
    "dendogram=sch.dendrogram(sch.linkage(x,method='ward'),labels=ids,orientation='right',color_threshold=distance_threshold,above_threshold_color='black')\n",
    "\n",
    "plt.axvline(distance_threshold,label='distance threshold : {0:0.2f} units'.format(distance_threshold))#,color='red')\n",
    "plt.legend()\n",
    "plt.title('Dendrogram')\n",
    "plt.xlabel('Dissimalarity measure -->')\n",
    "plt.ylabel('Roll No.')\n",
    "plt.grid(b='true',linestyle='--')\n",
    "plt.tight_layout()\n",
    "plt.savefig('dendro.png',dpi=500,pad_inches=10)"
   ]
  },
  {
   "cell_type": "code",
   "execution_count": 9,
   "metadata": {},
   "outputs": [
    {
     "data": {
      "text/plain": [
       "array([3, 2, 0, 1, 0], dtype=int64)"
      ]
     },
     "execution_count": 9,
     "metadata": {},
     "output_type": "execute_result"
    }
   ],
   "source": [
    "from sklearn.cluster import AgglomerativeClustering\n",
    "\n",
    "hc=AgglomerativeClustering(n_clusters=None,affinity='euclidean',linkage='ward',distance_threshold=distance_threshold)\n",
    "y_pred=hc.fit_predict(x)\n",
    "y_pred"
   ]
  },
  {
   "cell_type": "code",
   "execution_count": 10,
   "metadata": {},
   "outputs": [
    {
     "name": "stdout",
     "output_type": "stream",
     "text": [
      "[{'id': 1804020, 'cluster': 3, 'coordinate': [-0.5913851401837825, -0.7188200903472619]}, {'id': 1804043, 'cluster': 2, 'coordinate': [0.4516517205071807, 1.9013110425883921]}, {'id': 1804165, 'cluster': 0, 'coordinate': [-0.9232188734905739, -0.18299359934212012]}, {'id': 1804019, 'cluster': 1, 'coordinate': [1.9861711666577486, -0.8165037535568901]}, {'id': 1804017, 'cluster': 0, 'coordinate': [-0.9232188734905741, -0.1829935993421203]}]\n"
     ]
    }
   ],
   "source": [
    "data1=[]\n",
    "for i in range(len(data)):\n",
    "    d={\n",
    "        \"id\": data[i][\"id\"],\n",
    "        \"cluster\": y_pred[i],\n",
    "        \"coordinate\": coordinates[i].tolist()\n",
    "    }\n",
    "    data1.append(d)\n",
    "print(data1)"
   ]
  }
 ],
 "metadata": {
  "kernelspec": {
   "display_name": "Python 3",
   "language": "python",
   "name": "python3"
  },
  "language_info": {
   "codemirror_mode": {
    "name": "ipython",
    "version": 3
   },
   "file_extension": ".py",
   "mimetype": "text/x-python",
   "name": "python",
   "nbconvert_exporter": "python",
   "pygments_lexer": "ipython3",
   "version": "3.7.9"
  }
 },
 "nbformat": 4,
 "nbformat_minor": 4
}
